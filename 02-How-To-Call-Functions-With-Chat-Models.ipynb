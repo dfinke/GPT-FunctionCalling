{
 "cells": [
  {
   "attachments": {
    "Badge-1.png": {
     "image/png": "[encoded data removed]"
    }
   },
   "cell_type": "markdown",
   "metadata": {},
   "source": [
    "<style>\n",
    "td, th {\n",
    "   border: none!important;\n",
    "}\n",
    "</style>\n",
    "\n",
    "||||\n",
    "|---|---|---|\n",
    "|![](attachment:Badge-1.png)|<img src=\"media/plusSign.jpg\" alt=\"drawing\" width=\"50\"/>|<img src=\"media/PSLogo.png\" alt=\"drawing\" width=\"75\"/>|\n"
   ]
  },
  {
   "cell_type": "markdown",
   "metadata": {},
   "source": [
    "# How to call functions with chat models\n",
    "\n",
    "Function Calling is a new way to more reliably connect GPT's capabilities with external tools and APIs.\n",
    "Some of the benefits of using function calling include:\n",
    "\n",
    "1. **Modular Code:** Enhances code organization and reusability.\n",
    "2. **New Capabilities:** Expands AI's inherent functionality range.\n",
    "3. **Performance Optimizations:** Specialized functions boost efficiency.\n",
    "4. **Interactive Conversations:** Enables dynamic, real-time dialogues.\n",
    "5. **Simplicity and Ease:** Maintains clean, manageable AI code.\n",
    "6. **Better Error Handling:** Isolates and addresses issues effectively.\n",
    "7. **Adaptability:** Facilitates updates without system disruption.\n",
    "\n",
    "\n",
    "This notebook covers how to use the Chat Completions API in combination with external functions to extend the capabilities of GPT models.\n",
    "\n",
    "`functions` is an optional parameter in the Chat Completion API which can be used to provide function specifications. The purpose of this is to enable models to generate function arguments which adhere to the provided specifications. Note that the API will not actually execute any function calls. It is up to developers to execute function calls using model outputs.\n",
    "\n",
    "If the `functions` parameter is provided then by default the model will decide when it is appropriate to use one of the functions. The API can be forced to use a specific function by setting the `function_call` parameter to `{\"name\": \"<insert-function-name>\"}`. The API can also be forced to not use any function by setting the `function_call` parameter to `\"none\"`. If a function is used, the output will contain `\"finish_reason\": \"function_call\"` in the response, as well as a `function_call` object that has the name of the function and the generated function arguments.\n",
    "\n",
    "## Overview\n",
    "\n",
    "### Getting Started\n",
    "#### You can Get this Notebooks here:\n",
    "`GitHub Repo` [https://github.com/dfinke/PowerShellAI.Functions](https://github.com/dfinke/PowerShellAI.Functions)"
   ]
  },
  {
   "cell_type": "markdown",
   "metadata": {},
   "source": [
    "## Set Your OpenAI Key\n",
    "\n",
    "Don't have one!? Get one [https://platform.openai.com/account/api-keys](https://platform.openai.com/account/api-keys)."
   ]
  },
  {
   "cell_type": "code",
   "execution_count": null,
   "metadata": {
    "dotnet_interactive": {
     "language": "pwsh"
    },
    "polyglot_notebook": {
     "kernelName": "pwsh"
    }
   },
   "outputs": [],
   "source": [
    "$env:OpenAIKey = 'sk-xxxxxxxxxxxxxxxxxxxxxxxxxxxxxxxxxxxxxxxxxxxxxxxx'"
   ]
  },
  {
   "cell_type": "markdown",
   "metadata": {},
   "source": [
    "## Install PowerShellAI"
   ]
  },
  {
   "cell_type": "code",
   "execution_count": 4,
   "metadata": {
    "dotnet_interactive": {
     "language": "pwsh"
    },
    "polyglot_notebook": {
     "kernelName": "pwsh"
    }
   },
   "outputs": [
    {
     "name": "stdout",
     "output_type": "stream",
     "text": [
      "\u001b[38;2;255;165;0mModule PowerShellAI already installed\u001b[39m\r\n"
     ]
    }
   ],
   "source": [
    "$module = 'PowerShellAI'\n",
    "$moduleExists = gmo -list $module \n",
    "if($null -eq $moduleExists) {\n",
    "    Install-Module -Name $module -Force\n",
    "} else {\n",
    "    Write-Host \"Module $module already installed\" -ForegroundColor Orange\n",
    "}\n",
    "\n",
    "Import-Module PowerShellAI -Force"
   ]
  },
  {
   "cell_type": "markdown",
   "metadata": {},
   "source": [
    "### Here is the PowerShell code to get the weather \n",
    "\n",
    "https://github.com/chubin/wttr.in is the REST API to be called"
   ]
  },
  {
   "cell_type": "code",
   "execution_count": 13,
   "metadata": {
    "dotnet_interactive": {
     "language": "pwsh"
    },
    "polyglot_notebook": {
     "kernelName": "pwsh"
    }
   },
   "outputs": [],
   "source": [
    "function Get-CurrentWeather {\n",
    "    <#\n",
    "        .FunctionDescription\n",
    "            Gets the current weather for a location\n",
    "        .ParameterDescription location\n",
    "            The location to get the weather for\n",
    "        .ParameterDescription unit\n",
    "            The unit to get the weather in\n",
    "    #>\n",
    "    param (\n",
    "        [string]$location,\n",
    "        [ValidateSet('celsius', 'fahrenheit')]\n",
    "        [string]$unit\n",
    "    )\n",
    "    \n",
    "    $paramUnit =\"m\"\n",
    "    if($unit -eq \"fahrenheit\") {\n",
    "        $paramUnit = \"u\"\n",
    "    }\n",
    "\n",
    "    Write-Host \"Getting the weather for $location in $unit\"\n",
    "    Invoke-RestMethod \"https://wttr.in/$($location)?format=4&$paramUnit\"\n",
    "}"
   ]
  },
  {
   "cell_type": "code",
   "execution_count": 6,
   "metadata": {
    "dotnet_interactive": {
     "language": "pwsh"
    },
    "polyglot_notebook": {
     "kernelName": "pwsh"
    }
   },
   "outputs": [
    {
     "name": "stdout",
     "output_type": "stream",
     "text": [
      "Getting the weather for NYC in fahrenheit\n",
      "NYC: ☀️   🌡️+53°F 🌬️↓2mph\n",
      "\n"
     ]
    }
   ],
   "source": [
    "Get-CurrentWeather NYC fahrenheit"
   ]
  },
  {
   "cell_type": "markdown",
   "metadata": {},
   "source": [
    "### OpenAI Function Spec\n",
    "Let's use the metadata from the PowerShell function Get-CurrentWeather to create the OpenAI function spec."
   ]
  },
  {
   "cell_type": "code",
   "execution_count": 14,
   "metadata": {
    "dotnet_interactive": {
     "language": "pwsh"
    },
    "polyglot_notebook": {
     "kernelName": "pwsh"
    }
   },
   "outputs": [
    {
     "name": "stdout",
     "output_type": "stream",
     "text": [
      "{\r\n",
      "  \"name\": \"Get-CurrentWeather\",\r\n",
      "  \"description\": \"Gets the current weather for a location\",\r\n",
      "  \"parameters\": {\r\n",
      "    \"type\": \"object\",\r\n",
      "    \"properties\": {\r\n",
      "      \"location\": {\r\n",
      "        \"type\": \"string\",\r\n",
      "        \"description\": \"The location to get the weather for\"\r\n",
      "      },\r\n",
      "      \"unit\": {\r\n",
      "        \"type\": \"string\",\r\n",
      "        \"description\": \"The unit to get the weather in\",\r\n",
      "        \"enum\": [\r\n",
      "          \"celsius\",\r\n",
      "          \"fahrenheit\"\r\n",
      "        ]\r\n",
      "      }\r\n",
      "    },\r\n",
      "    \"required\": [\r\n",
      "      \"location\",\r\n",
      "      \"unit\"\r\n",
      "    ]\r\n",
      "  }\r\n",
      "}\r\n"
     ]
    }
   ],
   "source": [
    "$functions = ConvertFrom-FunctionDefinition (Get-Command Get-CurrentWeather)\n",
    "$functions | ConvertTo-Json -Depth 10"
   ]
  },
  {
   "cell_type": "markdown",
   "metadata": {},
   "source": [
    "### Natural Language for Weather\n",
    "\n",
    "Straight text. This is a GPT prompt. Needs to be in this format to work with the OpenAI REST API."
   ]
  },
  {
   "cell_type": "code",
   "execution_count": 15,
   "metadata": {
    "dotnet_interactive": {
     "language": "pwsh"
    },
    "polyglot_notebook": {
     "kernelName": "pwsh"
    }
   },
   "outputs": [
    {
     "name": "stdout",
     "output_type": "stream",
     "text": [
      "\n",
      "\u001b[32;1mrole content\u001b[0m\n",
      "\u001b[32;1m---- -------\u001b[0m\n",
      "user what is the weather like today, in Greenland?\n",
      "\n"
     ]
    }
   ],
   "source": [
    "$q = 'what is the weather like today, in Greenland?'\n",
    "# $q = 'what is the weather like today, in Greenland, farenheight?'\n",
    "\n",
    "$messages = @(\n",
    "    New-ChatMessageTemplate user $q\n",
    ")\n",
    "\n",
    "$messages"
   ]
  },
  {
   "cell_type": "markdown",
   "metadata": {},
   "source": [
    "### Call GPT\n",
    "\n",
    "Now you pass in the message and OpenAI function spec and get back the response."
   ]
  },
  {
   "cell_type": "code",
   "execution_count": 16,
   "metadata": {
    "dotnet_interactive": {
     "language": "pwsh"
    },
    "polyglot_notebook": {
     "kernelName": "pwsh"
    }
   },
   "outputs": [
    {
     "name": "stdout",
     "output_type": "stream",
     "text": [
      "\n",
      "\u001b[32;1mid      : \u001b[0mchatcmpl-8LJTeOGs3BQKdBVXEvcvFSVu7OfXh\n",
      "\u001b[32;1mobject  : \u001b[0mchat.completion\n",
      "\u001b[32;1mcreated : \u001b[0m1700090450\n",
      "\u001b[32;1mmodel   : \u001b[0mgpt-3.5-turbo-16k-0613\n",
      "\u001b[32;1mchoices : \u001b[0m{@{index=0; message=; finish_reason=function_call}}\n",
      "\u001b[32;1musage   : \u001b[0m@{prompt_tokens=88; completion_tokens=26; total_tokens=114}\n",
      "\n",
      "\n"
     ]
    }
   ],
   "source": [
    "$chatResponse = Get-ChatCompletion $messages -functions $functions\n",
    "$chatResponse"
   ]
  },
  {
   "cell_type": "markdown",
   "metadata": {},
   "source": [
    "### Here's the GPT Response\n",
    "\n",
    "Key parts: `finish_reason` and `function_call`\n",
    "\n",
    "Inspecting the `finish_reason`, if it is `function_call`, then we know that the GPT has generated a function call.\n",
    "Now you can use the `function_call` to call the function.\n",
    "In this case `Get-CurrentWeather`"
   ]
  },
  {
   "cell_type": "code",
   "execution_count": 17,
   "metadata": {
    "dotnet_interactive": {
     "language": "pwsh"
    },
    "polyglot_notebook": {
     "kernelName": "pwsh"
    }
   },
   "outputs": [
    {
     "name": "stdout",
     "output_type": "stream",
     "text": [
      "{\r\n",
      "  \"index\": 0,\r\n",
      "  \"message\": {\r\n",
      "    \"role\": \"assistant\",\r\n",
      "    \"content\": null,\r\n",
      "    \"function_call\": {\r\n",
      "      \"name\": \"Get-CurrentWeather\",\r\n",
      "      \"arguments\": \"{\\n  \\\"location\\\": \\\"Greenland\\\",\\n  \\\"unit\\\": \\\"celsius\\\"\\n}\"\r\n",
      "    }\r\n",
      "  },\r\n",
      "  \"finish_reason\": \"function_call\"\r\n",
      "}\r\n"
     ]
    }
   ],
   "source": [
    "$chatResponse.choices[0] | ConvertTo-Json -Depth 10"
   ]
  },
  {
   "cell_type": "markdown",
   "metadata": {},
   "source": [
    "### The Integration of the Chat Models with the PowerShell Functions\n",
    "\n",
    "The following code is the integration of the chat models with the PowerShell functions.\n",
    "\n",
    "If the `finish_reason` is `function_call` you can grab the function name and arguments from the message.\n",
    "The `arguments` are JSON. With some PowerShell magic you can convert the JSON to a hashtable.\n",
    "\n",
    "Now you have the function name and the arguments. using the call operator `&` you can call the function and splat the arguments."
   ]
  },
  {
   "cell_type": "code",
   "execution_count": 18,
   "metadata": {
    "dotnet_interactive": {
     "language": "pwsh"
    },
    "polyglot_notebook": {
     "kernelName": "pwsh"
    }
   },
   "outputs": [
    {
     "name": "stdout",
     "output_type": "stream",
     "text": [
      "Getting the weather for Greenland in celsius\n",
      "Greenland: ☀️   🌡️-37°C 🌬️→31km/h\n",
      "\n"
     ]
    }
   ],
   "source": [
    "$target = $chatResponse.choices[0]\n",
    "\n",
    "if($target.'finish_reason' -eq 'function_call') {\n",
    "    $functionName = $target.message.'function_call'.name\n",
    "    $arguments = $target.message.'function_call'.arguments\n",
    "    $splatParam = $arguments | ConvertFrom-Json -AsHashtable\n",
    "\n",
    "    & $functionName @splatParam\n",
    "}"
   ]
  },
  {
   "cell_type": "markdown",
   "metadata": {},
   "source": [
    "### The End\n",
    "\n",
    "That's it! You have a PowerShell function `Get-CurrentWeather` and can use it with Natural Language by integration PowerShell and ChatGPT.\n",
    "\n",
    "This is a very simple example, but you can use it to build more complex functions and integrate them with ChatGPT.\n",
    "\n",
    "What are you going to add Natural Language to!?"
   ]
  },
  {
   "cell_type": "markdown",
   "metadata": {},
   "source": [
    "## All the Code\n",
    "\n",
    "This is all the individual code snippets from the notebook, wrapped in the function `Invoke-AskWeather`."
   ]
  },
  {
   "cell_type": "code",
   "execution_count": 19,
   "metadata": {
    "dotnet_interactive": {
     "language": "pwsh"
    },
    "polyglot_notebook": {
     "kernelName": "pwsh"
    }
   },
   "outputs": [],
   "source": [
    "function Get-CurrentWeather {\n",
    "    <#\n",
    "        .FunctionDescription\n",
    "            Gets the current weather for a location\n",
    "        .ParameterDescription location\n",
    "            The location to get the weather for\n",
    "        .ParameterDescription format\n",
    "            The format to get the weather in\n",
    "    #>\n",
    "    param (\n",
    "        [string]$location,\n",
    "        [ValidateSet('celsius', 'fahrenheit')]\n",
    "        [string]$unit\n",
    "    )\n",
    "\n",
    "    $paramUnit = \"m\"\n",
    "    if ($unit -eq \"fahrenheit\") {\n",
    "        $paramUnit = \"u\"\n",
    "    }\n",
    "\n",
    "    Write-Host \"Getting the weather for $location in $unit\"\n",
    "    Invoke-RestMethod \"https://wttr.in/$($location)?format=4&$paramUnit\"\n",
    "}\n",
    "\n",
    "function Invoke-AskWeather {\n",
    "        param(\n",
    "        [Parameter(Mandatory)]\n",
    "        $q\n",
    "    )\n",
    "\n",
    "    $functions = ConvertFrom-FunctionDefinition (Get-Command Get-CurrentWeather)\n",
    "\n",
    "    $messages = @(\n",
    "        New-ChatMessageTemplate user $q\n",
    "    )\n",
    "\n",
    "    $chatResponse = Get-ChatCompletion $messages -functions $functions\n",
    "    $target = $chatResponse.choices[0]\n",
    "\n",
    "    if ($target.'finish_reason' -eq 'function_call') {\n",
    "        $functionName = $target.message.'function_call'.name\n",
    "        $arguments = $target.message.'function_call'.arguments\n",
    "        $splatParam = $arguments | ConvertFrom-Json -AsHashtable\n",
    "\n",
    "        & $functionName @splatParam\n",
    "    }\n",
    "}"
   ]
  },
  {
   "cell_type": "code",
   "execution_count": 20,
   "metadata": {
    "dotnet_interactive": {
     "language": "pwsh"
    },
    "polyglot_notebook": {
     "kernelName": "pwsh"
    }
   },
   "outputs": [
    {
     "name": "stdout",
     "output_type": "stream",
     "text": [
      "Getting the weather for New York City in celsius\n",
      "New York City: ☀️   🌡️+12°C 🌬️↓4km/h\n",
      "\n"
     ]
    }
   ],
   "source": [
    "Invoke-AskWeather 'weather in nyc'\n"
   ]
  },
  {
   "cell_type": "code",
   "execution_count": 21,
   "metadata": {
    "dotnet_interactive": {
     "language": "pwsh"
    },
    "polyglot_notebook": {
     "kernelName": "pwsh"
    }
   },
   "outputs": [
    {
     "name": "stdout",
     "output_type": "stream",
     "text": [
      "Getting the weather for Halifax in fahrenheit\n",
      "Halifax: ⛅️  🌡️+45°F 🌬️←4mph\n",
      "\n"
     ]
    }
   ],
   "source": [
    "# Notice the misspelling. GPT will correct it.\n",
    "Invoke-AskWeather 'What is the weather in halfax? not celcius'"
   ]
  }
 ],
 "metadata": {
  "kernelspec": {
   "display_name": ".NET (C#)",
   "language": "C#",
   "name": ".net-csharp"
  },
  "language_info": {
   "name": "polyglot-notebook"
  },
  "polyglot_notebook": {
   "kernelInfo": {
    "defaultKernelName": "csharp",
    "items": [
     {
      "aliases": [],
      "name": "csharp"
     },
     {
      "aliases": [],
      "languageName": "pwsh",
      "name": "pwsh"
     }
    ]
   }
  }
 },
 "nbformat": 4,
 "nbformat_minor": 2
}
